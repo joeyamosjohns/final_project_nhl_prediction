{
 "cells": [
  {
   "cell_type": "code",
   "execution_count": 1,
   "id": "b383f0b7-1542-430c-a272-b5cfc94ff4a1",
   "metadata": {},
   "outputs": [
    {
     "ename": "SyntaxError",
     "evalue": "invalid syntax (<ipython-input-1-bf29b8668400>, line 7)",
     "output_type": "error",
     "traceback": [
      "\u001b[0;36m  File \u001b[0;32m\"<ipython-input-1-bf29b8668400>\"\u001b[0;36m, line \u001b[0;32m7\u001b[0m\n\u001b[0;31m    check pred, error, etc\u001b[0m\n\u001b[0m          ^\u001b[0m\n\u001b[0;31mSyntaxError\u001b[0m\u001b[0;31m:\u001b[0m invalid syntax\n"
     ]
    }
   ],
   "source": [
    "model = svm\n",
    "\n",
    "model.fit(X[0:10])\n",
    "\n",
    "model.predict ...\n",
    "\n",
    "model.fit(X[0:11]) \n",
    "\n",
    "model.predict ... \n",
    "\n",
    "check pred, error, etc\n",
    "model.fit(X[12])\n",
    "\n",
    "\n",
    "check pred, error, etc\n",
    "..,"
   ]
  },
  {
   "cell_type": "code",
   "execution_count": null,
   "id": "d4307f70-5e09-41e2-925e-31219f7fa715",
   "metadata": {},
   "outputs": [],
   "source": [
    "\n"
   ]
  }
 ],
 "metadata": {
  "kernelspec": {
   "display_name": "Python 3",
   "language": "python",
   "name": "python3"
  },
  "language_info": {
   "codemirror_mode": {
    "name": "ipython",
    "version": 3
   },
   "file_extension": ".py",
   "mimetype": "text/x-python",
   "name": "python",
   "nbconvert_exporter": "python",
   "pygments_lexer": "ipython3",
   "version": "3.8.8"
  }
 },
 "nbformat": 4,
 "nbformat_minor": 5
}
