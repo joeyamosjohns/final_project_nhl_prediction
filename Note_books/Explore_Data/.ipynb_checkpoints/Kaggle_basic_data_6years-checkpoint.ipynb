{
 "cells": [
  {
   "cell_type": "code",
   "execution_count": 4,
   "id": "66bec9d3-f1a7-4439-82b3-52cf28bd37d7",
   "metadata": {},
   "outputs": [],
   "source": [
    "import pandas as pd\n",
    "\n",
    "nhl_games= pd.read_csv(\"/Users/joejohns/data_bootcamp/GitHub/final_project_nhl_prediction/Data/Kaggle_Data_Ellis/game.csv\")"
   ]
  },
  {
   "cell_type": "code",
   "execution_count": 5,
   "id": "7dc070f6-4ba1-47d4-a2ad-7bc3fae1c74a",
   "metadata": {},
   "outputs": [
    {
     "data": {
      "text/plain": [
       "Index(['game_id', 'season', 'type', 'date_time_GMT', 'away_team_id',\n",
       "       'home_team_id', 'away_goals', 'home_goals', 'outcome',\n",
       "       'home_rink_side_start', 'venue', 'venue_link', 'venue_time_zone_id',\n",
       "       'venue_time_zone_offset', 'venue_time_zone_tz'],\n",
       "      dtype='object')"
      ]
     },
     "execution_count": 5,
     "metadata": {},
     "output_type": "execute_result"
    }
   ],
   "source": [
    "nhl_games.columns"
   ]
  },
  {
   "cell_type": "code",
   "execution_count": 8,
   "id": "49b98c25-d787-42fd-8421-0ed01e7a1f6a",
   "metadata": {},
   "outputs": [
    {
     "data": {
      "text/html": [
       "<div>\n",
       "<style scoped>\n",
       "    .dataframe tbody tr th:only-of-type {\n",
       "        vertical-align: middle;\n",
       "    }\n",
       "\n",
       "    .dataframe tbody tr th {\n",
       "        vertical-align: top;\n",
       "    }\n",
       "\n",
       "    .dataframe thead th {\n",
       "        text-align: right;\n",
       "    }\n",
       "</style>\n",
       "<table border=\"1\" class=\"dataframe\">\n",
       "  <thead>\n",
       "    <tr style=\"text-align: right;\">\n",
       "      <th></th>\n",
       "      <th>game_id</th>\n",
       "      <th>season</th>\n",
       "      <th>type</th>\n",
       "      <th>date_time_GMT</th>\n",
       "      <th>away_team_id</th>\n",
       "      <th>home_team_id</th>\n",
       "      <th>away_goals</th>\n",
       "      <th>home_goals</th>\n",
       "      <th>outcome</th>\n",
       "      <th>home_rink_side_start</th>\n",
       "      <th>venue</th>\n",
       "      <th>venue_link</th>\n",
       "      <th>venue_time_zone_id</th>\n",
       "      <th>venue_time_zone_offset</th>\n",
       "      <th>venue_time_zone_tz</th>\n",
       "    </tr>\n",
       "  </thead>\n",
       "  <tbody>\n",
       "    <tr>\n",
       "      <th>6415</th>\n",
       "      <td>2012020159</td>\n",
       "      <td>20122013</td>\n",
       "      <td>R</td>\n",
       "      <td>2013-02-09T21:00:00Z</td>\n",
       "      <td>27</td>\n",
       "      <td>28</td>\n",
       "      <td>1</td>\n",
       "      <td>0</td>\n",
       "      <td>away win OT</td>\n",
       "      <td>left</td>\n",
       "      <td>HP Pavilion at San Jose</td>\n",
       "      <td>/api/v1/venues/null</td>\n",
       "      <td>America/Los_Angeles</td>\n",
       "      <td>-7</td>\n",
       "      <td>PDT</td>\n",
       "    </tr>\n",
       "  </tbody>\n",
       "</table>\n",
       "</div>"
      ],
      "text/plain": [
       "         game_id    season type         date_time_GMT  away_team_id  \\\n",
       "6415  2012020159  20122013    R  2013-02-09T21:00:00Z            27   \n",
       "\n",
       "      home_team_id  away_goals  home_goals      outcome home_rink_side_start  \\\n",
       "6415            28           1           0  away win OT                 left   \n",
       "\n",
       "                        venue           venue_link   venue_time_zone_id  \\\n",
       "6415  HP Pavilion at San Jose  /api/v1/venues/null  America/Los_Angeles   \n",
       "\n",
       "      venue_time_zone_offset venue_time_zone_tz  \n",
       "6415                      -7                PDT  "
      ]
     },
     "execution_count": 8,
     "metadata": {},
     "output_type": "execute_result"
    }
   ],
   "source": [
    "nhl_games.loc[nhl_games['game_id'] ==2012020159, :]"
   ]
  },
  {
   "cell_type": "code",
   "execution_count": null,
   "id": "f106accc-5e28-424e-8aa9-0ee5a2f1876b",
   "metadata": {},
   "outputs": [],
   "source": []
  }
 ],
 "metadata": {
  "kernelspec": {
   "display_name": "Python 3",
   "language": "python",
   "name": "python3"
  },
  "language_info": {
   "codemirror_mode": {
    "name": "ipython",
    "version": 3
   },
   "file_extension": ".py",
   "mimetype": "text/x-python",
   "name": "python",
   "nbconvert_exporter": "python",
   "pygments_lexer": "ipython3",
   "version": "3.8.8"
  }
 },
 "nbformat": 4,
 "nbformat_minor": 5
}
