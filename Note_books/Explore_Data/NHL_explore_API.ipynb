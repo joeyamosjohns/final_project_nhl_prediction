{
 "cells": [
  {
   "cell_type": "code",
   "execution_count": 3,
   "id": "41381861-cc08-4de1-b3be-7987cd032079",
   "metadata": {},
   "outputs": [],
   "source": [
    "# import packages we need (remember what packages we used yesterday during the API session)\n",
    "# IMPORT HERE\n",
    "\n",
    "import requests\n",
    "import json\n",
    "from IPython.display import JSON\n",
    "# ADD OTHER PACKAGES WE WILL NEED\n",
    "# <HERE>\n",
    "\n",
    "#import london_config as cfg\n",
    "#import config as cfg\n"
   ]
  },
  {
   "cell_type": "code",
   "execution_count": null,
   "id": "a53a7ae0-e7cb-4c03-ae49-841c0f51daf3",
   "metadata": {},
   "outputs": [],
   "source": []
  },
  {
   "cell_type": "code",
   "execution_count": 38,
   "id": "d1ba0937-5213-4ddb-a08f-7968f85ef78a",
   "metadata": {},
   "outputs": [],
   "source": [
    "\"?expand=team.stats\" \n",
    "stats = \"?expand=team.roster&season=20142015\"\n",
    "url = \"https://statsapi.web.nhl.com/api/v1/teams/1/?expand=team.stats\""
   ]
  },
  {
   "cell_type": "code",
   "execution_count": 39,
   "id": "a6ad1856-43eb-4eb2-a5df-1b873203333f",
   "metadata": {},
   "outputs": [],
   "source": [
    "# We send the request to the API\n",
    "# NOTE: if you don't have your APP_KEY, run this without the url_append\n",
    "res = requests.get(url) #+url_append)"
   ]
  },
  {
   "cell_type": "code",
   "execution_count": 40,
   "id": "5068a135-13aa-46e7-8cf4-f31520d2ec1d",
   "metadata": {},
   "outputs": [
    {
     "data": {
      "text/plain": [
       "200"
      ]
     },
     "execution_count": 40,
     "metadata": {},
     "output_type": "execute_result"
    }
   ],
   "source": [
    "# We can check if the request was successful\n",
    "res.status_code"
   ]
  },
  {
   "cell_type": "code",
   "execution_count": 41,
   "id": "b5d0329f-012e-4929-8271-7f7ed631d996",
   "metadata": {},
   "outputs": [],
   "source": [
    "#res.headers"
   ]
  },
  {
   "cell_type": "code",
   "execution_count": 42,
   "id": "25b80e20-d029-41bd-91be-dd68426d0613",
   "metadata": {},
   "outputs": [
    {
     "name": "stdout",
     "output_type": "stream",
     "text": [
      "<Response [200]>\n"
     ]
    }
   ],
   "source": [
    "print(res)"
   ]
  },
  {
   "cell_type": "code",
   "execution_count": 43,
   "id": "0ae868a4-d06c-4bb0-b604-906694f619b7",
   "metadata": {},
   "outputs": [
    {
     "data": {
      "application/json": {
       "copyright": "NHL and the NHL Shield are registered trademarks of the National Hockey League. NHL and NHL team marks are the property of the NHL and its teams. © NHL 2021. All Rights Reserved.",
       "teams": [
        {
         "abbreviation": "NJD",
         "active": true,
         "conference": {
          "id": 6,
          "link": "/api/v1/conferences/6",
          "name": "Eastern"
         },
         "division": {
          "id": 25,
          "link": "/api/v1/divisions/25",
          "name": "MassMutual East"
         },
         "firstYearOfPlay": "1982",
         "franchise": {
          "franchiseId": 23,
          "link": "/api/v1/franchises/23",
          "teamName": "Devils"
         },
         "franchiseId": 23,
         "id": 1,
         "link": "/api/v1/teams/1",
         "locationName": "New Jersey",
         "name": "New Jersey Devils",
         "officialSiteUrl": "http://www.newjerseydevils.com/",
         "shortName": "New Jersey",
         "teamName": "Devils",
         "teamStats": [
          {
           "splits": [
            {
             "stat": {
              "evGGARatio": 0.8293,
              "faceOffWinPercentage": "46.6",
              "faceOffsLost": 1699,
              "faceOffsTaken": 3180,
              "faceOffsWon": 1481,
              "gamesPlayed": 56,
              "goalsAgainstPerGame": 3.375,
              "goalsPerGame": 2.589,
              "losses": 30,
              "ot": 7,
              "penaltyKillPercentage": "71.0",
              "powerPlayGoals": 22,
              "powerPlayGoalsAgainst": 43,
              "powerPlayOpportunities": 155,
              "powerPlayPercentage": "14.2",
              "ptPctg": "40.2",
              "pts": 45,
              "savePctg": 0.891,
              "shootingPctg": 9,
              "shotsAllowed": 31.0179,
              "shotsPerGame": 28.7857,
              "winLeadFirstPer": 0.737,
              "winLeadSecondPer": 0.733,
              "winOppScoreFirst": 0.111,
              "winOutshootOpp": 0.211,
              "winOutshotByOpp": 0.417,
              "winScoreFirst": 0.552,
              "wins": 19
             },
             "team": {
              "id": 1,
              "link": "/api/v1/teams/1",
              "name": "New Jersey Devils"
             }
            },
            {
             "stat": {
              "evGGARatio": "21st",
              "faceOffWinPercentage": "27th",
              "faceOffsLost": "30th",
              "faceOffsTaken": "8th",
              "faceOffsWon": "27th",
              "goalsAgainstPerGame": "28th",
              "goalsPerGame": "26th",
              "losses": "29th",
              "ot": "15th",
              "penaltyKillOpportunities": "6th",
              "penaltyKillPercentage": "31st",
              "powerPlayGoals": "28th",
              "powerPlayGoalsAgainst": "30th",
              "powerPlayOpportunities": "23rd",
              "powerPlayPercentage": "28th",
              "ptPctg": "29th",
              "pts": "29th",
              "savePctRank": "29th",
              "shootingPctRank": "24th",
              "shotsAllowed": "22nd",
              "shotsPerGame": "24th",
              "winLeadFirstPer": "19th",
              "winLeadSecondPer": "28th",
              "winOppScoreFirst": "31st",
              "winOutshootOpp": "31st",
              "winOutshotByOpp": "31st",
              "winScoreFirst": "22nd",
              "wins": "28th"
             },
             "team": {
              "id": 1,
              "link": "/api/v1/teams/1",
              "name": "New Jersey Devils"
             }
            }
           ],
           "type": {
            "displayName": "statsSingleSeason",
            "gameType": {
             "description": "Regular season",
             "id": "R",
             "postseason": false
            }
           }
          }
         ],
         "venue": {
          "city": "Newark",
          "link": "/api/v1/venues/null",
          "name": "Prudential Center",
          "timeZone": {
           "id": "America/New_York",
           "offset": -4,
           "tz": "EDT"
          }
         }
        }
       ]
      },
      "text/plain": [
       "<IPython.core.display.JSON object>"
      ]
     },
     "execution_count": 43,
     "metadata": {
      "application/json": {
       "expanded": false,
       "root": "root"
      }
     },
     "output_type": "execute_result"
    }
   ],
   "source": [
    "JSON(res.json())"
   ]
  },
  {
   "cell_type": "code",
   "execution_count": null,
   "id": "8818a841-d975-4ad6-9767-ddec05db3973",
   "metadata": {},
   "outputs": [],
   "source": []
  }
 ],
 "metadata": {
  "kernelspec": {
   "display_name": "Python 3",
   "language": "python",
   "name": "python3"
  },
  "language_info": {
   "codemirror_mode": {
    "name": "ipython",
    "version": 3
   },
   "file_extension": ".py",
   "mimetype": "text/x-python",
   "name": "python",
   "nbconvert_exporter": "python",
   "pygments_lexer": "ipython3",
   "version": "3.8.8"
  }
 },
 "nbformat": 4,
 "nbformat_minor": 5
}
