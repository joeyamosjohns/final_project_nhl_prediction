{
 "cells": [
  {
   "cell_type": "code",
   "execution_count": 2,
   "id": "66bec9d3-f1a7-4439-82b3-52cf28bd37d7",
   "metadata": {},
   "outputs": [],
   "source": [
    "import pandas as pd\n",
    "\n",
    "nhl_games= pd.read_csv(\"/Users/joejohns/Downloads/Kaggle_data/game.csv\")"
   ]
  },
  {
   "cell_type": "code",
   "execution_count": 3,
   "id": "7dc070f6-4ba1-47d4-a2ad-7bc3fae1c74a",
   "metadata": {},
   "outputs": [
    {
     "data": {
      "text/plain": [
       "Index(['game_id', 'season', 'type', 'date_time_GMT', 'away_team_id',\n",
       "       'home_team_id', 'away_goals', 'home_goals', 'outcome',\n",
       "       'home_rink_side_start', 'venue', 'venue_link', 'venue_time_zone_id',\n",
       "       'venue_time_zone_offset', 'venue_time_zone_tz'],\n",
       "      dtype='object')"
      ]
     },
     "execution_count": 3,
     "metadata": {},
     "output_type": "execute_result"
    }
   ],
   "source": [
    "nhl_games.columns"
   ]
  },
  {
   "cell_type": "code",
   "execution_count": null,
   "id": "49b98c25-d787-42fd-8421-0ed01e7a1f6a",
   "metadata": {},
   "outputs": [],
   "source": []
  }
 ],
 "metadata": {
  "kernelspec": {
   "display_name": "Python 3",
   "language": "python",
   "name": "python3"
  },
  "language_info": {
   "codemirror_mode": {
    "name": "ipython",
    "version": 3
   },
   "file_extension": ".py",
   "mimetype": "text/x-python",
   "name": "python",
   "nbconvert_exporter": "python",
   "pygments_lexer": "ipython3",
   "version": "3.8.8"
  }
 },
 "nbformat": 4,
 "nbformat_minor": 5
}
